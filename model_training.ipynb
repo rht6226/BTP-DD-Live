{
 "metadata": {
  "language_info": {
   "codemirror_mode": {
    "name": "ipython",
    "version": 3
   },
   "file_extension": ".py",
   "mimetype": "text/x-python",
   "name": "python",
   "nbconvert_exporter": "python",
   "pygments_lexer": "ipython3",
   "version": "3.6.13"
  },
  "orig_nbformat": 2,
  "kernelspec": {
   "name": "python3613jvsc74a57bd08cd77cdda34b1bfd6e9c2cb232658445360dbcab600a0dceba2f6f2c878909c9",
   "display_name": "Python 3.6.13 64-bit ('tf': conda)"
  }
 },
 "nbformat": 4,
 "nbformat_minor": 2,
 "cells": [
  {
   "cell_type": "code",
   "execution_count": 1,
   "metadata": {},
   "outputs": [
    {
     "output_type": "stream",
     "name": "stdout",
     "text": [
      "X_train - (11388, 8) , y_train - (11388,)\nX_test - (3603, 8) , y_test - (3603,)\n"
     ]
    }
   ],
   "source": [
    "# Load Dataset\n",
    "from helpers import get_dataset\n",
    "\n",
    "(X_train, y_train), (X_test, y_test) = get_dataset()"
   ]
  },
  {
   "cell_type": "code",
   "execution_count": 2,
   "metadata": {},
   "outputs": [],
   "source": [
    "# imports\n",
    "from helpers import print_analysis, average\n",
    "import joblib"
   ]
  },
  {
   "cell_type": "code",
   "execution_count": 4,
   "metadata": {},
   "outputs": [
    {
     "output_type": "stream",
     "name": "stdout",
     "text": [
      "Accuracy: 0.7502081598667777\n",
      "Precison: 0.8413251961639059\n",
      "Recall: 0.5733808674985146\n",
      "F1 Score: 0.6819787985865725\n",
      "ROC Score:  0.7891448182808477\n",
      "Confusion Matrix:\n",
      "[[1738  182]\n",
      " [ 718  965]]\n",
      "[Parallel(n_jobs=1)]: Using backend SequentialBackend with 1 concurrent workers.\n",
      "[Parallel(n_jobs=1)]: Done   1 out of   1 | elapsed:    0.0s finished\n"
     ]
    },
    {
     "output_type": "execute_result",
     "data": {
      "text/plain": [
       "['./models/logistic.pkl']"
      ]
     },
     "metadata": {},
     "execution_count": 4
    }
   ],
   "source": [
    "# 1. Logistic Regression\n",
    "\n",
    "from sklearn.linear_model import LogisticRegression\n",
    "clf_LR = LogisticRegression(max_iter=1000000, verbose=1, C=0.2).fit(X_train, y_train)\n",
    "y_pred = clf_LR.predict(X_test)\n",
    "y_pred = average(y_pred)\n",
    "y_score = clf_LR.predict_proba(X_test)[:,1]\n",
    "\n",
    "print_analysis(y_test, y_pred, y_score)\n",
    "\n",
    "# save the model\n",
    "joblib.dump(clf_LR, './models/logistic.pkl')"
   ]
  },
  {
   "cell_type": "code",
   "execution_count": 9,
   "metadata": {},
   "outputs": [
    {
     "output_type": "stream",
     "name": "stdout",
     "text": [
      "Accuracy: 0.8184845961698585\nPrecison: 0.8819599109131403\nRecall: 0.7058823529411765\nF1 Score: 0.7841584158415842\nROC Score:  0.8281140139136464\nConfusion Matrix:\n[[1761  159]\n [ 495 1188]]\n"
     ]
    },
    {
     "output_type": "execute_result",
     "data": {
      "text/plain": [
       "['./models/knn.pkl']"
      ]
     },
     "metadata": {},
     "execution_count": 9
    }
   ],
   "source": [
    "# 2. KNN\n",
    "\n",
    "from sklearn.neighbors import KNeighborsClassifier\n",
    "# Define KNN and Fit data\n",
    "clf_neigh = KNeighborsClassifier(n_neighbors=80)\n",
    "clf_neigh.fit(X_train, y_train)\n",
    "\n",
    "# Predict values \n",
    "y_pred_KN = clf_neigh.predict(X_test)\n",
    "y_pred_KN = average(y_pred_KN)\n",
    "\n",
    "# Get Score\n",
    "y_score_KN = clf_neigh.predict_proba(X_test)[:,1]\n",
    "\n",
    "print_analysis(y_test, y_pred_KN, y_score_KN)\n",
    "\n",
    "# save the model\n",
    "joblib.dump(clf_neigh, './models/knn.pkl')"
   ]
  },
  {
   "cell_type": "code",
   "execution_count": 10,
   "metadata": {},
   "outputs": [
    {
     "output_type": "stream",
     "name": "stdout",
     "text": [
      "Accuracy: 0.8157091312794893\nPrecison: 0.9027667984189723\nRecall: 0.6785502079619726\nF1 Score: 0.7747625508819539\nROC Score:  0.7893105379778175\nConfusion Matrix:\n[[1797  123]\n [ 541 1142]]\n"
     ]
    },
    {
     "output_type": "execute_result",
     "data": {
      "text/plain": [
       "['./models/decision_tree.pkl']"
      ]
     },
     "metadata": {},
     "execution_count": 10
    }
   ],
   "source": [
    "# 3. Decision Tree\n",
    "from sklearn.tree import DecisionTreeClassifier\n",
    "\n",
    "# Create and Fit Decison tree\n",
    "clf_dt = DecisionTreeClassifier(random_state=0, max_depth=5)\n",
    "clf_dt.fit(X_train, y_train)\n",
    "\n",
    "# Get predictions\n",
    "y_pred_dt = clf_dt.predict(X_test)\n",
    "y_pred_dt = average(y_pred_dt)\n",
    " # Get Score\n",
    "y_score_dt = clf_dt.predict_proba(X_test)[:,1]\n",
    "\n",
    "print_analysis(y_test, y_pred_dt, y_score_dt)\n",
    "\n",
    "# save the model\n",
    "joblib.dump(clf_dt, './models/decision_tree.pkl')"
   ]
  },
  {
   "cell_type": "code",
   "execution_count": 11,
   "metadata": {},
   "outputs": [
    {
     "output_type": "stream",
     "name": "stdout",
     "text": [
      "Accuracy: 0.8201498751040799\nPrecison: 0.8935361216730038\nRecall: 0.6981580510992276\nF1 Score: 0.7838559039359573\nROC Score:  0.8146299081501287\nConfusion Matrix:\n[[1780  140]\n [ 508 1175]]\n"
     ]
    },
    {
     "output_type": "execute_result",
     "data": {
      "text/plain": [
       "['./models/random_forest.pkl']"
      ]
     },
     "metadata": {},
     "execution_count": 11
    }
   ],
   "source": [
    "# 4. Random Forest\n",
    "from sklearn.ensemble import RandomForestClassifier\n",
    "\n",
    "# Create and Fit Random Forest\n",
    "clf_RF = RandomForestClassifier(random_state=0, max_depth=6)\n",
    "clf_RF.fit(X_train, y_train)\n",
    "\n",
    "# Get predictions\n",
    "y_pred_RF = clf_RF.predict(X_test)\n",
    "y_pred_RF = average(y_pred_RF)\n",
    " # Get Score\n",
    "y_score_RF = clf_RF.predict_proba(X_test)[:,1]\n",
    "\n",
    "print_analysis(y_test, y_pred_RF, y_score_RF)\n",
    "\n",
    "# save the model\n",
    "joblib.dump(clf_RF, './models/random_forest.pkl')"
   ]
  },
  {
   "cell_type": "code",
   "execution_count": 3,
   "metadata": {},
   "outputs": [
    {
     "output_type": "stream",
     "name": "stdout",
     "text": [
      "Accuracy: 0.8254232583957813\nPrecison: 0.8675034867503487\nRecall: 0.7391562685680333\nF1 Score: 0.7982034007058069\nROC Score:  0.8382798573975044\nConfusion Matrix:\n[[1730  190]\n [ 439 1244]]\n"
     ]
    },
    {
     "output_type": "execute_result",
     "data": {
      "text/plain": [
       "['./models/xgb.pkl']"
      ]
     },
     "metadata": {},
     "execution_count": 3
    }
   ],
   "source": [
    "# 5. XGB Classifier\n",
    "\n",
    "from xgboost import XGBClassifier\n",
    "\n",
    "# Create and Fit XGB Classifier\n",
    "clf_XGB = XGBClassifier()\n",
    "clf_XGB.fit(X_train, y_train)\n",
    "\n",
    "# Get predictions\n",
    "y_pred_XGB = clf_XGB.predict(X_test)\n",
    "y_pred_XGB = average(y_pred_XGB)\n",
    " # Get Score\n",
    "y_score_XGB = clf_XGB.predict_proba(X_test)[:,1]\n",
    "\n",
    "print_analysis(y_test, y_pred_XGB, y_score_XGB)\n",
    "\n",
    "# save the model\n",
    "joblib.dump(clf_XGB, './models/xgb.pkl')"
   ]
  },
  {
   "cell_type": "code",
   "execution_count": null,
   "metadata": {},
   "outputs": [],
   "source": []
  }
 ]
}